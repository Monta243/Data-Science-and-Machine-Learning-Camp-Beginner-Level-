{
  "nbformat": 4,
  "nbformat_minor": 0,
  "metadata": {
    "colab": {
      "provenance": [],
      "authorship_tag": "ABX9TyOxtUCGhraM922+xSkNheaV",
      "include_colab_link": true
    },
    "kernelspec": {
      "name": "python3",
      "display_name": "Python 3"
    },
    "language_info": {
      "name": "python"
    }
  },
  "cells": [
    {
      "cell_type": "markdown",
      "metadata": {
        "id": "view-in-github",
        "colab_type": "text"
      },
      "source": [
        "<a href=\"https://colab.research.google.com/github/Monta243/Data-Science-and-Machine-Learning-Camp-Beginner-Level-/blob/main/Coding_in_Python.ipynb\" target=\"_parent\"><img src=\"https://colab.research.google.com/assets/colab-badge.svg\" alt=\"Open In Colab\"/></a>"
      ]
    },
    {
      "cell_type": "markdown",
      "source": [
        "Q1:\n",
        "\n",
        "Loop:\n",
        "\n",
        "Write a Python program that uses a 'for' loop to print all even numbers from 1 to 10. Then, use 'while' loop."
      ],
      "metadata": {
        "id": "BL7iHt1R-Nla"
      }
    },
    {
      "cell_type": "code",
      "execution_count": 1,
      "metadata": {
        "id": "fpz8LS8n9Ov-",
        "colab": {
          "base_uri": "https://localhost:8080/"
        },
        "outputId": "54f79b3c-f963-43cd-f9a8-b04f655df8c4"
      },
      "outputs": [
        {
          "output_type": "stream",
          "name": "stdout",
          "text": [
            "Using for loop:\n",
            "2\n",
            "4\n",
            "6\n",
            "8\n",
            "10\n"
          ]
        }
      ],
      "source": [
        "# Using for loop\n",
        "print(\"Using for loop:\")\n",
        "for i in range(1, 11):\n",
        "    if i % 2 == 0:\n",
        "        print(i)\n"
      ]
    },
    {
      "cell_type": "code",
      "source": [
        "# Using while loop\n",
        "print(\"Using while loop:\")\n",
        "num = 1\n",
        "while num <= 10:\n",
        "    if num % 2 == 0:\n",
        "        print(num)\n",
        "    num += 1\n"
      ],
      "metadata": {
        "colab": {
          "base_uri": "https://localhost:8080/"
        },
        "id": "T5ZP-w9m-6QS",
        "outputId": "920c0937-340c-47fa-a401-8278e7b9465f"
      },
      "execution_count": 2,
      "outputs": [
        {
          "output_type": "stream",
          "name": "stdout",
          "text": [
            "Using while loop:\n",
            "2\n",
            "4\n",
            "6\n",
            "8\n",
            "10\n"
          ]
        }
      ]
    },
    {
      "cell_type": "markdown",
      "source": [
        "Q2:\n",
        "\n",
        "Control Flows:\n",
        "\n",
        "Create a Python function named grade_classifier that takes a student's score as an argument and returns a string indicating their grade. Use the following criteria:\n",
        "\n",
        "Score >= 90: \"A\"\n",
        "80 <= Score < 90: \"B\"\n",
        "70 <= Score < 80: \"C\"\n",
        "60 <= Score < 70: \"D\"\n",
        "Score < 60: \"F\""
      ],
      "metadata": {
        "id": "hqvfCm9V-bpy"
      }
    },
    {
      "cell_type": "code",
      "source": [
        "def grade_classifier(score):\n",
        "    if score >= 90:\n",
        "        return \"A\"\n",
        "    elif 80 <= score < 90:\n",
        "        return \"B\"\n",
        "    elif 70 <= score < 80:\n",
        "        return \"C\"\n",
        "    elif 60 <= score < 70:\n",
        "        return \"D\"\n",
        "    else:\n",
        "        return \"F\"\n"
      ],
      "metadata": {
        "id": "-BlNg-tm-dPA"
      },
      "execution_count": 4,
      "outputs": []
    },
    {
      "cell_type": "code",
      "source": [
        "# Test cases\n",
        "print(grade_classifier(95))  # Output: \"A\"\n",
        "print(grade_classifier(85))  # Output: \"B\"\n",
        "print(grade_classifier(75))  # Output: \"C\"\n",
        "print(grade_classifier(65))  # Output: \"D\"\n",
        "print(grade_classifier(55))  # Output: \"F\"\n"
      ],
      "metadata": {
        "colab": {
          "base_uri": "https://localhost:8080/"
        },
        "id": "aJ5V5IrTAPTK",
        "outputId": "2da2fec4-3439-4295-c56a-c5ae1f0346c1"
      },
      "execution_count": 5,
      "outputs": [
        {
          "output_type": "stream",
          "name": "stdout",
          "text": [
            "A\n",
            "B\n",
            "C\n",
            "D\n",
            "F\n"
          ]
        }
      ]
    },
    {
      "cell_type": "markdown",
      "source": [
        "Q3:\n",
        "\n",
        "If Conditions:\n",
        "\n",
        "\n",
        "Write a Python program that prompts the user to enter their age. Use if-elif-else statements to categorize and print the user's age group as follows:\n",
        "\n",
        "If the age is less than 13, print \"Child.\"\n",
        "\n",
        "If the age is between 13 and 19 (inclusive), print \"Teenager.\"\n",
        "\n",
        "If the age is between 20 and 59 (inclusive), print \"Adult.\"\n",
        "\n",
        "If the age is 60 or older, print \"Senior Citizen.\""
      ],
      "metadata": {
        "id": "2d9AuSwu-dwh"
      }
    },
    {
      "cell_type": "code",
      "source": [
        "# Prompting user for age input\n",
        "age = int(input(\"Enter your age: \"))\n",
        "\n",
        "# Categorizing age into different groups using if-elif-else statements\n",
        "if age < 13:\n",
        "    print(\"Child.\")\n",
        "elif 13 <= age <= 19:\n",
        "    print(\"Teenager.\")\n",
        "elif 20 <= age <= 59:\n",
        "    print(\"Adult.\")\n",
        "else:\n",
        "    print(\"Senior Citizen.\")\n"
      ],
      "metadata": {
        "colab": {
          "base_uri": "https://localhost:8080/"
        },
        "id": "h73CV2T2-gLh",
        "outputId": "8f69cb5a-6029-4873-c698-8ae1cb96d9b3"
      },
      "execution_count": 6,
      "outputs": [
        {
          "output_type": "stream",
          "name": "stdout",
          "text": [
            "Enter your age: 22\n",
            "Adult.\n"
          ]
        }
      ]
    },
    {
      "cell_type": "markdown",
      "source": [
        "Q4:\n",
        "\n",
        "Functions:\n",
        "\n",
        "\n",
        "Define a Python function named multiply_numbers that takes two parameters (num1 and num2) and returns their product. Test the function with values 5 and 7."
      ],
      "metadata": {
        "id": "8RafV-XL-g_8"
      }
    },
    {
      "cell_type": "code",
      "source": [
        "def multiply_numbers(num1, num2):\n",
        "    return num1 * num2\n",
        "\n",
        "# Testing the function with values 5 and 7\n",
        "result = multiply_numbers(5, 7)\n",
        "print(\"The product is:\", result)\n"
      ],
      "metadata": {
        "colab": {
          "base_uri": "https://localhost:8080/"
        },
        "id": "2a4lf-5y-i2-",
        "outputId": "b38832d9-cc7a-40f0-b4da-9e3440628e9c"
      },
      "execution_count": 7,
      "outputs": [
        {
          "output_type": "stream",
          "name": "stdout",
          "text": [
            "The product is: 35\n"
          ]
        }
      ]
    },
    {
      "cell_type": "markdown",
      "source": [
        "Q5:\n",
        "\n",
        "Combine All the Above:\n",
        "\n",
        "Write a Python program that does the following:\n",
        "\n",
        "Prompts the user to enter a number (user_num).\n",
        "Uses a loop to print all numbers from 1 to user_num (inclusive) that are divisible by 3.\n",
        "Calls the grade_classifier function to classify a user's score (you can use a predefined score for testing).\n",
        "Prints a message indicating whether the classified grade is satisfactory or not."
      ],
      "metadata": {
        "id": "0Ov0nRak-kOa"
      }
    },
    {
      "cell_type": "code",
      "source": [
        "# Function to classify grades\n",
        "def grade_classifier(score):\n",
        "    if score >= 90:\n",
        "        return \"A\"\n",
        "    elif 80 <= score < 90:\n",
        "        return \"B\"\n",
        "    elif 70 <= score < 80:\n",
        "        return \"C\"\n",
        "    elif 60 <= score < 70:\n",
        "        return \"D\"\n",
        "    else:\n",
        "        return \"F\"\n",
        "\n",
        "# Prompting the user to enter a number\n",
        "user_num = int(input(\"Enter a number: \"))\n",
        "\n",
        "# Printing numbers from 1 to user_num that are divisible by 3\n",
        "print(\"Numbers from 1 to\", user_num, \"divisible by 3:\")\n",
        "for i in range(1, user_num + 1):\n",
        "    if i % 3 == 0:\n",
        "        print(i)\n",
        "\n",
        "# Calling grade_classifier function with a predefined score (for testing)\n",
        "test_score = 78  # Example score for testing purposes\n",
        "classified_grade = grade_classifier(test_score)\n",
        "\n",
        "# Printing the classified grade\n",
        "print(\"\\nClassified Grade:\", classified_grade)\n",
        "\n",
        "# Checking if the classified grade is satisfactory or not\n",
        "if classified_grade in [\"A\", \"B\", \"C\"]:\n",
        "    print(\"Satisfactory Grade!\")\n",
        "else:\n",
        "    print(\"Unsatisfactory Grade.\")"
      ],
      "metadata": {
        "colab": {
          "base_uri": "https://localhost:8080/"
        },
        "id": "pF19ncvq-l7p",
        "outputId": "6864b5ff-896d-4830-ae91-e1f13842cb71"
      },
      "execution_count": 8,
      "outputs": [
        {
          "output_type": "stream",
          "name": "stdout",
          "text": [
            "Enter a number: 333\n",
            "Numbers from 1 to 333 divisible by 3:\n",
            "3\n",
            "6\n",
            "9\n",
            "12\n",
            "15\n",
            "18\n",
            "21\n",
            "24\n",
            "27\n",
            "30\n",
            "33\n",
            "36\n",
            "39\n",
            "42\n",
            "45\n",
            "48\n",
            "51\n",
            "54\n",
            "57\n",
            "60\n",
            "63\n",
            "66\n",
            "69\n",
            "72\n",
            "75\n",
            "78\n",
            "81\n",
            "84\n",
            "87\n",
            "90\n",
            "93\n",
            "96\n",
            "99\n",
            "102\n",
            "105\n",
            "108\n",
            "111\n",
            "114\n",
            "117\n",
            "120\n",
            "123\n",
            "126\n",
            "129\n",
            "132\n",
            "135\n",
            "138\n",
            "141\n",
            "144\n",
            "147\n",
            "150\n",
            "153\n",
            "156\n",
            "159\n",
            "162\n",
            "165\n",
            "168\n",
            "171\n",
            "174\n",
            "177\n",
            "180\n",
            "183\n",
            "186\n",
            "189\n",
            "192\n",
            "195\n",
            "198\n",
            "201\n",
            "204\n",
            "207\n",
            "210\n",
            "213\n",
            "216\n",
            "219\n",
            "222\n",
            "225\n",
            "228\n",
            "231\n",
            "234\n",
            "237\n",
            "240\n",
            "243\n",
            "246\n",
            "249\n",
            "252\n",
            "255\n",
            "258\n",
            "261\n",
            "264\n",
            "267\n",
            "270\n",
            "273\n",
            "276\n",
            "279\n",
            "282\n",
            "285\n",
            "288\n",
            "291\n",
            "294\n",
            "297\n",
            "300\n",
            "303\n",
            "306\n",
            "309\n",
            "312\n",
            "315\n",
            "318\n",
            "321\n",
            "324\n",
            "327\n",
            "330\n",
            "333\n",
            "\n",
            "Classified Grade: C\n",
            "Satisfactory Grade!\n"
          ]
        }
      ]
    }
  ]
}