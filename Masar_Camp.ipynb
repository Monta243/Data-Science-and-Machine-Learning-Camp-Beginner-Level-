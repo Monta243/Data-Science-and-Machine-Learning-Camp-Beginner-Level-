{
  "nbformat": 4,
  "nbformat_minor": 0,
  "metadata": {
    "colab": {
      "provenance": [],
      "toc_visible": true,
      "collapsed_sections": [
        "xBnl85Xerd0f"
      ],
      "authorship_tag": "ABX9TyMzgR7JQ5zHCJ8nna9Vb0ai",
      "include_colab_link": true
    },
    "kernelspec": {
      "name": "python3",
      "display_name": "Python 3"
    },
    "language_info": {
      "name": "python"
    }
  },
  "cells": [
    {
      "cell_type": "markdown",
      "metadata": {
        "id": "view-in-github",
        "colab_type": "text"
      },
      "source": [
        "<a href=\"https://colab.research.google.com/github/Monta243/Python1/blob/main/Masar_Camp.ipynb\" target=\"_parent\"><img src=\"https://colab.research.google.com/assets/colab-badge.svg\" alt=\"Open In Colab\"/></a>"
      ]
    },
    {
      "cell_type": "markdown",
      "source": [
        "# معسكر مسار علم البيانات و تعلم لغة الآلة\n"
      ],
      "metadata": {
        "id": "ayX08BUQPPXH"
      }
    },
    {
      "cell_type": "markdown",
      "source": [
        "##الأسبوع الأول\n"
      ],
      "metadata": {
        "id": "xBnl85Xerd0f"
      }
    },
    {
      "cell_type": "markdown",
      "source": [
        "###النشاط الأول"
      ],
      "metadata": {
        "id": "Cri1bkeZuu2X"
      }
    },
    {
      "cell_type": "code",
      "source": [
        "print('Hello, Masar')"
      ],
      "metadata": {
        "colab": {
          "base_uri": "https://localhost:8080/"
        },
        "id": "t2kJcJNcOZOC",
        "outputId": "cdc962dd-6334-4d22-b3a4-00079b05f1db"
      },
      "execution_count": null,
      "outputs": [
        {
          "output_type": "stream",
          "name": "stdout",
          "text": [
            "Hello, Masar\n"
          ]
        }
      ]
    },
    {
      "cell_type": "markdown",
      "source": [
        "###الواجب الأول\n"
      ],
      "metadata": {
        "id": "cDp84dY0p9rn"
      }
    },
    {
      "cell_type": "code",
      "source": [
        "# تعريف الإسم كمتغير\n",
        "name= 'Mountader ALSinan'\n",
        "\n",
        "#تعريف العمر كمتغير\n",
        "Age= 22\n",
        "\n",
        "print(f'Hi Everyone My name {name} and I am {Age} years old, I will be a best Data Scientist in the early future')"
      ],
      "metadata": {
        "colab": {
          "base_uri": "https://localhost:8080/"
        },
        "id": "jU7dNiFzQOkb",
        "outputId": "8950535c-2ddc-44c7-912e-019be4c66aff"
      },
      "execution_count": null,
      "outputs": [
        {
          "output_type": "stream",
          "name": "stdout",
          "text": [
            "Hi Everyone My name Mountader ALSinan and I am 22 years old, I will be a best Data Scientist in the early future\n"
          ]
        }
      ]
    },
    {
      "cell_type": "markdown",
      "source": [
        "###الواجب الثاني"
      ],
      "metadata": {
        "id": "UXB5siU7cISD"
      }
    },
    {
      "cell_type": "code",
      "source": [
        "# تعيين القيم\n",
        "employee_years1= 3\n",
        "employee_evaluation1= \"Excellent\"\n",
        "\n",
        "\n",
        "def calculate_bonus(years, evaluation):\n",
        "    if employee_years1 <= 10:\n",
        "        if employee_evaluation1 == \"Excellent\":\n",
        "            bonus_percentage = 0.10\n",
        "        elif employee_evaluation1 == \"Poor\":\n",
        "            bonus_percentage = 0.05\n",
        "        else:\n",
        "            bonus_percentage = 0\n",
        "    else:\n",
        "        if employee_evaluation1 == \"Excellent\":\n",
        "            bonus_percentage = 0.20\n",
        "        elif employee_evaluation1 == \"Poor\":\n",
        "            bonus_percentage = 0.15\n",
        "        else:\n",
        "            bonus_percentage = 0\n",
        "\n",
        "    return bonus_percentage\n",
        "\n",
        "\n",
        "# حساب المكافأة\n",
        "bonus = calculate_bonus(employee_years1, employee_evaluation1)\n",
        "\n",
        "\n",
        "\n",
        "# طباعة نتيجة الحساب\n",
        "print(f\"معدل المكافأة: %{bonus * 100}\")\n",
        "\n"
      ],
      "metadata": {
        "colab": {
          "base_uri": "https://localhost:8080/"
        },
        "id": "9wUlAeG7cPv6",
        "outputId": "651da1cb-34ea-4bb9-d6d2-08c9debf0b0a"
      },
      "execution_count": null,
      "outputs": [
        {
          "output_type": "stream",
          "name": "stdout",
          "text": [
            "معدل المكافأة: %10.0\n"
          ]
        }
      ]
    },
    {
      "cell_type": "code",
      "source": [
        "import numpy as np\n",
        "\n",
        "def calculate_bonus(years, evaluation):\n",
        "    if years <= 10:\n",
        "        bonus = np.select([evaluation == \"Excellent\", evaluation == \"Poor\"], [0.10, 0.05], default=0)\n",
        "    else:\n",
        "        bonus = np.select([evaluation == \"Excellent\", evaluation == \"Poor\"], [0.20, 0.15], default=0)\n",
        "\n",
        "    return bonus\n",
        "\n",
        "# تعيين القيم\n",
        "employee_years = 11\n",
        "employee_evaluation = \"Excellent\"\n",
        "\n",
        "# حساب المكافأة\n",
        "bonus = calculate_bonus(employee_years, employee_evaluation)\n",
        "\n",
        "# طباعة نتيجة الحساب\n",
        "print(f\"معدل المكافأة: %{bonus * 100}\")"
      ],
      "metadata": {
        "colab": {
          "base_uri": "https://localhost:8080/"
        },
        "id": "DnckUNJX3U_s",
        "outputId": "6ef9b34d-6b48-4b06-a6c9-3680b9c5869d"
      },
      "execution_count": null,
      "outputs": [
        {
          "output_type": "stream",
          "name": "stdout",
          "text": [
            "معدل المكافأة: %10.0\n"
          ]
        }
      ]
    }
  ]
}