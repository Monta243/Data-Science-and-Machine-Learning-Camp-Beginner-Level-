{
  "cells": [
    {
      "cell_type": "markdown",
      "metadata": {
        "id": "view-in-github",
        "colab_type": "text"
      },
      "source": [
        "<a href=\"https://colab.research.google.com/github/Monta243/Python1/blob/main/Masar_Camp.ipynb\" target=\"_parent\"><img src=\"https://colab.research.google.com/assets/colab-badge.svg\" alt=\"Open In Colab\"/></a>"
      ]
    },
    {
      "cell_type": "markdown",
      "metadata": {
        "id": "ayX08BUQPPXH"
      },
      "source": [
        "# Data Science and Machine Learning Track Camp\n"
      ]
    },
    {
      "cell_type": "markdown",
      "metadata": {
        "id": "xBnl85Xerd0f"
      },
      "source": [
        "##First Week\n"
      ]
    },
    {
      "cell_type": "markdown",
      "metadata": {
        "id": "fKAb_gWIjaPg"
      },
      "source": [
        "good job Keep it up\n",
        "\n",
        "Abdullah"
      ]
    },
    {
      "cell_type": "markdown",
      "metadata": {
        "id": "Cri1bkeZuu2X"
      },
      "source": [
        "###First activity"
      ]
    },
    {
      "cell_type": "code",
      "execution_count": null,
      "metadata": {
        "colab": {
          "base_uri": "https://localhost:8080/"
        },
        "id": "t2kJcJNcOZOC",
        "outputId": "cdc962dd-6334-4d22-b3a4-00079b05f1db"
      },
      "outputs": [
        {
          "name": "stdout",
          "output_type": "stream",
          "text": [
            "Hello, Masar\n"
          ]
        }
      ],
      "source": [
        "print('Hello, Masar')"
      ]
    },
    {
      "cell_type": "markdown",
      "metadata": {
        "id": "cDp84dY0p9rn"
      },
      "source": [
        "###First Homework\n"
      ]
    },
    {
      "cell_type": "code",
      "execution_count": null,
      "metadata": {
        "colab": {
          "base_uri": "https://localhost:8080/"
        },
        "id": "jU7dNiFzQOkb",
        "outputId": "8950535c-2ddc-44c7-912e-019be4c66aff"
      },
      "outputs": [
        {
          "name": "stdout",
          "output_type": "stream",
          "text": [
            "Hi Everyone My name Mountader ALSinan and I am 22 years old, I will be a best Data Scientist in the early future\n"
          ]
        }
      ],
      "source": [
        "# تعريف الإسم كمتغير\n",
        "name= 'Mountader ALSinan'\n",
        "\n",
        "#تعريف العمر كمتغير\n",
        "Age= 22\n",
        "\n",
        "print(f'Hi Everyone My name {name} and I am {Age} years old, I will be a best Data Scientist in the early future')"
      ]
    },
    {
      "cell_type": "markdown",
      "metadata": {
        "id": "UXB5siU7cISD"
      },
      "source": [
        "###Second Homework"
      ]
    },
    {
      "cell_type": "code",
      "execution_count": null,
      "metadata": {
        "colab": {
          "base_uri": "https://localhost:8080/"
        },
        "id": "9wUlAeG7cPv6",
        "outputId": "cea81250-510f-4720-ebd0-705dfec5c4e5"
      },
      "outputs": [
        {
          "name": "stdout",
          "output_type": "stream",
          "text": [
            "معدل المكافأة: %20.0\n"
          ]
        }
      ],
      "source": [
        "# تعيين القيم\n",
        "employee_years1= 20\n",
        "employee_evaluation1= \"Excellent\"\n",
        "\n",
        "\n",
        "def calculate_bonus(years, evaluation):\n",
        "    if employee_years1 <= 10:\n",
        "        if employee_evaluation1 == \"Excellent\":\n",
        "            bonus_percentage = 0.10\n",
        "        elif employee_evaluation1 == \"Poor\":\n",
        "            bonus_percentage = 0.05\n",
        "        else:\n",
        "            bonus_percentage = 0\n",
        "    else:\n",
        "        if employee_evaluation1 == \"Excellent\":\n",
        "            bonus_percentage = 0.20\n",
        "        elif employee_evaluation1 == \"Poor\":\n",
        "            bonus_percentage = 0.15\n",
        "        else:\n",
        "            bonus_percentage = 0\n",
        "\n",
        "    return bonus_percentage\n",
        "\n",
        "\n",
        "# حساب المكافأة\n",
        "bonus = calculate_bonus(employee_years1, employee_evaluation1)\n",
        "\n",
        "\n",
        "\n",
        "# طباعة نتيجة الحساب\n",
        "print(f\"معدل المكافأة: %{bonus * 100}\")\n",
        "\n"
      ]
    },
    {
      "cell_type": "code",
      "execution_count": null,
      "metadata": {
        "colab": {
          "base_uri": "https://localhost:8080/"
        },
        "id": "DnckUNJX3U_s",
        "outputId": "a5014a8a-091d-4ec8-9efb-496ed1caf384"
      },
      "outputs": [
        {
          "name": "stdout",
          "output_type": "stream",
          "text": [
            "معدل المكافأة: %0.0\n"
          ]
        }
      ],
      "source": [
        "import numpy as np\n",
        "\n",
        "def calculate_bonus(years, evaluation):\n",
        "    if years <= 10:\n",
        "        bonus = np.select([evaluation == \"Excellent\", evaluation == \"Poor\"], [0.10, 0.05], default=0)\n",
        "    else:\n",
        "        bonus = np.select([evaluation == \"Excellent\", evaluation == \"Poor\"], [0.20, 0.15], default=0)\n",
        "\n",
        "    return bonus\n",
        "\n",
        "# تعيين القيم\n",
        "employee_years = 2\n",
        "employee_evaluation = \"poor\"\n",
        "\n",
        "# حساب المكافأة\n",
        "bonus = calculate_bonus(employee_years, employee_evaluation)\n",
        "\n",
        "# طباعة نتيجة الحساب\n",
        "print(f\"معدل المكافأة: %{bonus * 100}\")"
      ]
    },
    {
      "cell_type": "markdown",
      "metadata": {
        "id": "zun_YETCTRU9"
      },
      "source": [
        "###First Quiz"
      ]
    },
    {
      "cell_type": "code",
      "execution_count": 20,
      "metadata": {
        "colab": {
          "base_uri": "https://localhost:8080/"
        },
        "id": "q6LKzONXTmsA",
        "outputId": "eb605a15-506c-4cfd-b64a-49dacdce051c"
      },
      "outputs": [
        {
          "output_type": "stream",
          "name": "stdout",
          "text": [
            "41\n"
          ]
        }
      ],
      "source": [
        "list = [12,47,55,22,7,43,89,24,48,34,82,41,175,514,44]\n",
        "\n",
        "x = list[4]\n",
        "\n",
        "y = list[9]\n",
        "\n",
        "z = x+y\n",
        "\n",
        "print(z)"
      ]
    },
    {
      "cell_type": "markdown",
      "source": [
        "###Second Activity"
      ],
      "metadata": {
        "id": "kYsjNPg2rkMH"
      }
    },
    {
      "cell_type": "code",
      "source": [
        "#استخدام بايثون في المشين ليرنينج\n",
        "\n",
        "import pandas as pd\n",
        "from sklearn.datasets import load_iris\n",
        "\n",
        "# Load the Iris dataset\n",
        "iris = load_iris()\n",
        "\n",
        "# Create a DataFrame using the data and feature_names\n",
        "iris_df = pd.DataFrame(data=iris.data, columns=iris.feature_names)\n",
        "\n",
        "# Add the target column to the DataFrame\n",
        "iris_df['target'] = iris.target\n",
        "\n",
        "# Display the DataFrame\n",
        "print(iris_df)"
      ],
      "metadata": {
        "colab": {
          "base_uri": "https://localhost:8080/"
        },
        "id": "-sYyFwberf7f",
        "outputId": "cf7bc78f-2f1d-400f-ca22-778365aaba06"
      },
      "execution_count": 16,
      "outputs": [
        {
          "output_type": "stream",
          "name": "stdout",
          "text": [
            "     sepal length (cm)  sepal width (cm)  petal length (cm)  petal width (cm)  \\\n",
            "0                  5.1               3.5                1.4               0.2   \n",
            "1                  4.9               3.0                1.4               0.2   \n",
            "2                  4.7               3.2                1.3               0.2   \n",
            "3                  4.6               3.1                1.5               0.2   \n",
            "4                  5.0               3.6                1.4               0.2   \n",
            "..                 ...               ...                ...               ...   \n",
            "145                6.7               3.0                5.2               2.3   \n",
            "146                6.3               2.5                5.0               1.9   \n",
            "147                6.5               3.0                5.2               2.0   \n",
            "148                6.2               3.4                5.4               2.3   \n",
            "149                5.9               3.0                5.1               1.8   \n",
            "\n",
            "     target  \n",
            "0         0  \n",
            "1         0  \n",
            "2         0  \n",
            "3         0  \n",
            "4         0  \n",
            "..      ...  \n",
            "145       2  \n",
            "146       2  \n",
            "147       2  \n",
            "148       2  \n",
            "149       2  \n",
            "\n",
            "[150 rows x 5 columns]\n"
          ]
        }
      ]
    }
  ],
  "metadata": {
    "colab": {
      "toc_visible": true,
      "provenance": [],
      "include_colab_link": true
    },
    "kernelspec": {
      "display_name": "Python 3",
      "name": "python3"
    },
    "language_info": {
      "name": "python"
    }
  },
  "nbformat": 4,
  "nbformat_minor": 0
}